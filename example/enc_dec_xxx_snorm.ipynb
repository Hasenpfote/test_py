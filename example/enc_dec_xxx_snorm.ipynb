{
 "cells": [
  {
   "cell_type": "code",
   "execution_count": 11,
   "metadata": {},
   "outputs": [],
   "source": [
    "import numpy as np\n",
    "from fpq.fp import *"
   ]
  },
  {
   "cell_type": "code",
   "execution_count": 12,
   "metadata": {},
   "outputs": [],
   "source": [
    "vhex = np.vectorize(hex)"
   ]
  },
  {
   "cell_type": "markdown",
   "metadata": {},
   "source": [
    "enc/dec fp - snorm"
   ]
  },
  {
   "cell_type": "code",
   "execution_count": 13,
   "metadata": {},
   "outputs": [
    {
     "name": "stdout",
     "output_type": "stream",
     "text": [
      "fp [-1.   -0.25 -0.    0.    0.25  1.  ]\n",
      "----------\n",
      "std version:\n",
      "enc ['0x1f' '0x9' '0x1' '0x0' '0x8' '0x1e']\n",
      "dec [-1.     -0.2666 -0.      0.      0.2666  1.    ]\n",
      "----------\n",
      "ogl version:\n",
      "enc ['0x11' '0x1c' '0x0' '0x0' '0x4' '0xf']\n",
      "dec [-1.     -0.2666  0.      0.      0.2666  1.    ]\n",
      "----------\n",
      "d3d version:\n",
      "enc ['0x11' '0x1c' '0x0' '0x0' '0x4' '0xf']\n",
      "dec [-1.     -0.2666  0.      0.      0.2666  1.    ]\n",
      "----------\n"
     ]
    }
   ],
   "source": [
    "dtypes = (np.float16, np.uint8)\n",
    "nbits = 5\n",
    "\n",
    "fp = np.array([-1., -0.25, -0., 0., 0.25, 1.], dtype=dtypes[0])\n",
    "print('fp', fp)\n",
    "print('-'*10)\n",
    "\n",
    "# std\n",
    "enc = encode_fp_to_std_snorm(fp, dtype=dtypes[1], nbits=nbits)\n",
    "dec = decode_std_snorm_to_fp(enc, dtype=dtypes[0], nbits=nbits)\n",
    "\n",
    "print('std version:')\n",
    "print('enc', vhex(enc))\n",
    "print('dec', dec)\n",
    "print('-'*10)\n",
    "\n",
    "# ogl\n",
    "enc = encode_fp_to_ogl_snorm(fp, dtype=dtypes[1], nbits=nbits)\n",
    "dec = decode_ogl_snorm_to_fp(enc, dtype=dtypes[0], nbits=nbits)\n",
    "\n",
    "print('ogl version:')\n",
    "print('enc', vhex(enc))\n",
    "print('dec', dec)\n",
    "print('-'*10)\n",
    "\n",
    "# d3d\n",
    "enc = encode_fp_to_d3d_snorm(fp, dtype=dtypes[1], nbits=nbits)\n",
    "dec = decode_d3d_snorm_to_fp(enc, dtype=dtypes[0], nbits=nbits)\n",
    "\n",
    "print('d3d version:')\n",
    "print('enc', vhex(enc))\n",
    "print('dec', dec)\n",
    "print('-'*10)"
   ]
  },
  {
   "cell_type": "code",
   "execution_count": 14,
   "metadata": {},
   "outputs": [
    {
     "name": "stdout",
     "output_type": "stream",
     "text": [
      "fp [-1.   -0.25 -0.    0.    0.25  1.  ]\n",
      "----------\n",
      "std version:\n",
      "enc ['0x3ff' '0x101' '0x1' '0x0' '0x100' '0x3fe']\n",
      "dec [-1.         -0.25048923 -0.          0.          0.25048923  1.        ]\n",
      "----------\n",
      "ogl version:\n",
      "enc ['0x201' '0x380' '0x0' '0x0' '0x80' '0x1ff']\n",
      "dec [-1.         -0.25048923  0.          0.          0.25048923  1.        ]\n",
      "----------\n",
      "d3d version:\n",
      "enc ['0x201' '0x380' '0x0' '0x0' '0x80' '0x1ff']\n",
      "dec [-1.         -0.25048923  0.          0.          0.25048923  1.        ]\n",
      "----------\n"
     ]
    }
   ],
   "source": [
    "dtypes = (np.float32, np.uint16)\n",
    "nbits = 10\n",
    "\n",
    "fp = np.array([-1., -0.25, -0., 0., 0.25, 1.], dtype=dtypes[0])\n",
    "print('fp', fp)\n",
    "print('-'*10)\n",
    "\n",
    "# std\n",
    "enc = encode_fp_to_std_snorm(fp, dtype=dtypes[1], nbits=nbits)\n",
    "dec = decode_std_snorm_to_fp(enc, dtype=dtypes[0], nbits=nbits)\n",
    "\n",
    "print('std version:')\n",
    "print('enc', vhex(enc))\n",
    "print('dec', dec)\n",
    "print('-'*10)\n",
    "\n",
    "# ogl\n",
    "enc = encode_fp_to_ogl_snorm(fp, dtype=dtypes[1], nbits=nbits)\n",
    "dec = decode_ogl_snorm_to_fp(enc, dtype=dtypes[0], nbits=nbits)\n",
    "\n",
    "print('ogl version:')\n",
    "print('enc', vhex(enc))\n",
    "print('dec', dec)\n",
    "print('-'*10)\n",
    "\n",
    "# d3d\n",
    "enc = encode_fp_to_d3d_snorm(fp, dtype=dtypes[1], nbits=nbits)\n",
    "dec = decode_d3d_snorm_to_fp(enc, dtype=dtypes[0], nbits=nbits)\n",
    "\n",
    "print('d3d version:')\n",
    "print('enc', vhex(enc))\n",
    "print('dec', dec)\n",
    "print('-'*10)"
   ]
  },
  {
   "cell_type": "code",
   "execution_count": 15,
   "metadata": {},
   "outputs": [
    {
     "name": "stdout",
     "output_type": "stream",
     "text": [
      "fp [-1.   -0.25 -0.    0.    0.25  1.  ]\n",
      "----------\n",
      "std version:\n",
      "enc ['0xfffff' '0x40001' '0x1' '0x0' '0x40000' '0xffffe']\n",
      "dec [-1.         -0.25000048 -0.          0.          0.25000048  1.        ]\n",
      "----------\n",
      "ogl version:\n",
      "enc ['0x80001' '0xe0000' '0x0' '0x0' '0x20000' '0x7ffff']\n",
      "dec [-1.         -0.25000048  0.          0.          0.25000048  1.        ]\n",
      "----------\n",
      "d3d version:\n",
      "enc ['0x80001' '0xe0000' '0x0' '0x0' '0x20000' '0x7ffff']\n",
      "dec [-1.         -0.25000048  0.          0.          0.25000048  1.        ]\n",
      "----------\n"
     ]
    }
   ],
   "source": [
    "dtypes = (np.float64, np.uint32)\n",
    "nbits = 20\n",
    "\n",
    "fp = np.array([-1., -0.25, -0., 0., 0.25, 1.], dtype=dtypes[0])\n",
    "print('fp', fp)\n",
    "print('-'*10)\n",
    "\n",
    "# std\n",
    "enc = encode_fp_to_std_snorm(fp, dtype=dtypes[1], nbits=nbits)\n",
    "dec = decode_std_snorm_to_fp(enc, dtype=dtypes[0], nbits=nbits)\n",
    "\n",
    "print('std version:')\n",
    "print('enc', vhex(enc))\n",
    "print('dec', dec)\n",
    "print('-'*10)\n",
    "\n",
    "# ogl\n",
    "enc = encode_fp_to_ogl_snorm(fp, dtype=dtypes[1], nbits=nbits)\n",
    "dec = decode_ogl_snorm_to_fp(enc, dtype=dtypes[0], nbits=nbits)\n",
    "\n",
    "print('ogl version:')\n",
    "print('enc', vhex(enc))\n",
    "print('dec', dec)\n",
    "print('-'*10)\n",
    "\n",
    "# d3d\n",
    "enc = encode_fp_to_d3d_snorm(fp, dtype=dtypes[1], nbits=nbits)\n",
    "dec = decode_d3d_snorm_to_fp(enc, dtype=dtypes[0], nbits=nbits)\n",
    "\n",
    "print('d3d version:')\n",
    "print('enc', vhex(enc))\n",
    "print('dec', dec)\n",
    "print('-'*10)"
   ]
  }
 ],
 "metadata": {
  "kernelspec": {
   "display_name": "Python 3",
   "language": "python",
   "name": "python3"
  },
  "language_info": {
   "codemirror_mode": {
    "name": "ipython",
    "version": 3
   },
   "file_extension": ".py",
   "mimetype": "text/x-python",
   "name": "python",
   "nbconvert_exporter": "python",
   "pygments_lexer": "ipython3",
   "version": "3.6.4"
  }
 },
 "nbformat": 4,
 "nbformat_minor": 2
}
