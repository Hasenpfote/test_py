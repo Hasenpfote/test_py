{
 "cells": [
  {
   "cell_type": "code",
   "execution_count": 13,
   "metadata": {},
   "outputs": [],
   "source": [
    "import math\n",
    "import random\n",
    "import numpy as np\n",
    "import fpq.quaternion as fpq_quat\n",
    "import fpq.fp as fpq_fp"
   ]
  },
  {
   "cell_type": "code",
   "execution_count": 14,
   "metadata": {},
   "outputs": [],
   "source": [
    "def quat_random():\n",
    "    '''See also: http://planning.cs.uiuc.edu/node198.html'''\n",
    "    u1 = random.random()\n",
    "    r1 = math.sqrt(1. - u1)\n",
    "    r2 = math.sqrt(u1)\n",
    "    t1 = 2. * math.pi * random.random() # u1\n",
    "    t2 = 2. * math.pi * random.random() # u2\n",
    "    return np.array([r2 * math.cos(t2), # w\n",
    "                     r1 * math.sin(t1), # x\n",
    "                     r1 * math.cos(t1), # y\n",
    "                     r2 * math.sin(t2)])# z\n",
    "\n",
    "def quat_are_same_rotation(q1, q2, *, atol=1e-08):\n",
    "    return np.isclose(1., abs(np.dot(q1, q2)), rtol=0., atol=atol)"
   ]
  },
  {
   "cell_type": "markdown",
   "metadata": {},
   "source": [
    "Encode Quat(64bits) to uint64  \n",
    "Decode uint64 to Quat(64bits)"
   ]
  },
  {
   "cell_type": "code",
   "execution_count": 15,
   "metadata": {},
   "outputs": [],
   "source": [
    "dtypes = (np.float64, np.uint64)\n",
    "q = np.array([quat_random() for _ in range(10)], dtype=dtypes[0])"
   ]
  },
  {
   "cell_type": "code",
   "execution_count": 16,
   "metadata": {
    "scrolled": true
   },
   "outputs": [
    {
     "name": "stdout",
     "output_type": "stream",
     "text": [
      "after encoding: 80 / 320 bytes (0.25)\n",
      "src[-0.10357565  0.08989679  0.97034298  0.19906068] dst[-0.10357625  0.08989636  0.97034304  0.19906028] ... src == dst? True\n",
      "src[0.09934063 0.66400178 0.24889568 0.69805732] dst[0.09933997 0.66400227 0.24889616 0.69805677] ... src == dst? True\n",
      "src[ 0.14660687  0.10020717 -0.57834485 -0.79622998] dst[-0.14660657 -0.10020719  0.57834488  0.79623001] ... src == dst? True\n",
      "src[-0.38111557  0.34558429 -0.43051746  0.74160443] dst[-0.38111613  0.34558459 -0.43051773  0.74160385] ... src == dst? True\n",
      "src[-0.31460513  0.64502405 -0.69420176 -0.05524046] dst[ 0.31460491 -0.64502469  0.69420129  0.05524013] ... src == dst? True\n",
      "src[-0.01936871  0.28586344  0.00100519 -0.95807408] dst[ 0.01936871 -0.28586407 -0.00100478  0.95807389] ... src == dst? True\n",
      "src[-0.22626524  0.60179092 -0.70140994 -0.30769437] dst[ 0.22626494 -0.60179071  0.70141031  0.30769416] ... src == dst? True\n",
      "src[ 0.51019859 -0.26778737 -0.8021789   0.15651308] dst[-0.51019903  0.26778742  0.80217866 -0.15651279] ... src == dst? True\n",
      "src[0.12675969 0.17881542 0.83856177 0.49876967] dst[0.12675908 0.17881492 0.8385617  0.49877013] ... src == dst? True\n",
      "src[-0.72085793  0.50742494  0.39826862 -0.25350716] dst[ 0.72085783 -0.50742475 -0.39826892  0.25350737] ... src == dst? True\n"
     ]
    }
   ],
   "source": [
    "enc = fpq_quat.encode_quat_to_uint(q, dtype=dtypes[1])\n",
    "dec = fpq_quat.decode_uint_to_quat(enc, dtype=dtypes[0])\n",
    "\n",
    "print('after encoding: {} / {} bytes ({})'.format(enc.nbytes, q.nbytes, enc.nbytes / q.nbytes))\n",
    "for src, dst in zip(q, dec):\n",
    "    print('src{} dst{} ... src == dst? {}'.format(src, dst, quat_are_same_rotation(src, dst, atol=1e-07)))"
   ]
  },
  {
   "cell_type": "code",
   "execution_count": 17,
   "metadata": {},
   "outputs": [
    {
     "name": "stdout",
     "output_type": "stream",
     "text": [
      "after encoding: 80 / 320 bytes (0.25)\n",
      "src[-0.10357565  0.08989679  0.97034298  0.19906068] dst[-0.10357625  0.08989636  0.97034304  0.19906028] ... src == dst? True\n",
      "src[0.09934063 0.66400178 0.24889568 0.69805732] dst[0.09933997 0.66400227 0.24889616 0.69805677] ... src == dst? True\n",
      "src[ 0.14660687  0.10020717 -0.57834485 -0.79622998] dst[-0.14660657 -0.10020719  0.57834488  0.79623001] ... src == dst? True\n",
      "src[-0.38111557  0.34558429 -0.43051746  0.74160443] dst[-0.38111613  0.34558459 -0.43051773  0.74160385] ... src == dst? True\n",
      "src[-0.31460513  0.64502405 -0.69420176 -0.05524046] dst[ 0.31460491 -0.64502469  0.69420129  0.05524013] ... src == dst? True\n",
      "src[-0.01936871  0.28586344  0.00100519 -0.95807408] dst[ 0.01936871 -0.28586407 -0.00100478  0.95807389] ... src == dst? True\n",
      "src[-0.22626524  0.60179092 -0.70140994 -0.30769437] dst[ 0.22626494 -0.60179071  0.70141031  0.30769416] ... src == dst? True\n",
      "src[ 0.51019859 -0.26778737 -0.8021789   0.15651308] dst[-0.51019903  0.26778742  0.80217866 -0.15651279] ... src == dst? True\n",
      "src[0.12675969 0.17881542 0.83856177 0.49876967] dst[0.12675908 0.17881492 0.8385617  0.49877013] ... src == dst? True\n",
      "src[-0.72085793  0.50742494  0.39826862 -0.25350716] dst[ 0.72085783 -0.50742475 -0.39826892  0.25350737] ... src == dst? True\n"
     ]
    }
   ],
   "source": [
    "enc = fpq_quat.encode_quat_to_uint(q, dtype=dtypes[1], encoder=fpq_fp.encode_fp_to_d3d_snorm)\n",
    "dec = fpq_quat.decode_uint_to_quat(enc, dtype=dtypes[0], decoder=fpq_fp.decode_d3d_snorm_to_fp)\n",
    "\n",
    "print('after encoding: {} / {} bytes ({})'.format(enc.nbytes, q.nbytes, enc.nbytes / q.nbytes))\n",
    "for src, dst in zip(q, dec):\n",
    "    print('src{} dst{} ... src == dst? {}'.format(src, dst, quat_are_same_rotation(src, dst, atol=1e-07)))"
   ]
  },
  {
   "cell_type": "markdown",
   "metadata": {},
   "source": [
    "Encode Quat(32bits) to uint32  \n",
    "Decode uint32 to Quat(32bits)"
   ]
  },
  {
   "cell_type": "code",
   "execution_count": 18,
   "metadata": {},
   "outputs": [],
   "source": [
    "dtypes = (np.float32, np.uint32)\n",
    "q = np.array([quat_random() for _ in range(10)], dtype=dtypes[0])"
   ]
  },
  {
   "cell_type": "code",
   "execution_count": 19,
   "metadata": {
    "scrolled": true
   },
   "outputs": [
    {
     "name": "stdout",
     "output_type": "stream",
     "text": [
      "after encoding: 40 / 160 bytes (0.25)\n",
      "src[-0.53211826  0.4733182  -0.5614568   0.42140996] dst[ 0.5327516  -0.47324955  0.56043226 -0.42205003] ... src == dst? True\n",
      "src[ 0.33166066 -0.03716293 -0.9257136  -0.17797329] dst[-0.33210495  0.03736186  0.92544365  0.17850637] ... src == dst? True\n",
      "src[-0.82224196  0.4404761   0.26027372  0.2493121 ] dst[ 0.8225861  -0.44003904 -0.26014888 -0.24907869] ... src == dst? True\n",
      "src[ 0.38843513  0.3981372  -0.02380269 -0.83068544] dst[-0.3888395  -0.39852592  0.02352411  0.83031774] ... src == dst? True\n",
      "src[ 0.7619178   0.4216852  -0.48754114 -0.06297976] dst[ 0.76195014  0.42205006 -0.48708725 -0.06365347] ... src == dst? True\n",
      "src[-0.16240895 -0.39503294  0.52718365 -0.73460853] dst[ 0.16190112  0.39437467 -0.5272166   0.73505056] ... src == dst? True\n",
      "src[-0.6489763   0.2619862   0.6048927  -0.37986556] dst[ 0.6489383  -0.26153266 -0.6047078   0.38053685] ... src == dst? True\n",
      "src[ 0.22387841 -0.6453715  -0.6143861   0.39484653] dst[-0.22417083  0.6455509   0.6143941  -0.39437464] ... src == dst? True\n",
      "src[ 0.16351146 -0.18047142  0.7190559  -0.65088606] dst[ 0.1632849  -0.17989016  0.7197177  -0.6503722 ] ... src == dst? True\n",
      "src[ 0.7028759  -0.61648464 -0.14215268 -0.3251227 ] dst[ 0.702176   -0.6171617  -0.14252836 -0.3251861 ] ... src == dst? True\n"
     ]
    }
   ],
   "source": [
    "enc = fpq_quat.encode_quat_to_uint(q, dtype=dtypes[1])\n",
    "dec = fpq_quat.decode_uint_to_quat(enc, dtype=dtypes[0])\n",
    "\n",
    "print('after encoding: {} / {} bytes ({})'.format(enc.nbytes, q.nbytes, enc.nbytes / q.nbytes))\n",
    "for src, dst in zip(q, dec):\n",
    "    print('src{} dst{} ... src == dst? {}'.format(src, dst, quat_are_same_rotation(src, dst, atol=1e-06)))"
   ]
  },
  {
   "cell_type": "code",
   "execution_count": 20,
   "metadata": {},
   "outputs": [
    {
     "name": "stdout",
     "output_type": "stream",
     "text": [
      "after encoding: 40 / 160 bytes (0.25)\n",
      "src[-0.53211826  0.4733182  -0.5614568   0.42140996] dst[ 0.5327516  -0.47324955  0.56043226 -0.42205003] ... src == dst? True\n",
      "src[ 0.33166066 -0.03716293 -0.9257136  -0.17797329] dst[-0.33210495  0.03736186  0.92544365  0.17850637] ... src == dst? True\n",
      "src[-0.82224196  0.4404761   0.26027372  0.2493121 ] dst[ 0.8225861  -0.44003904 -0.26014888 -0.24907869] ... src == dst? True\n",
      "src[ 0.38843513  0.3981372  -0.02380269 -0.83068544] dst[-0.3888395  -0.39852592  0.02352411  0.83031774] ... src == dst? True\n",
      "src[ 0.7619178   0.4216852  -0.48754114 -0.06297976] dst[ 0.76195014  0.42205006 -0.48708725 -0.06365347] ... src == dst? True\n",
      "src[-0.16240895 -0.39503294  0.52718365 -0.73460853] dst[ 0.16190112  0.39437467 -0.5272166   0.73505056] ... src == dst? True\n",
      "src[-0.6489763   0.2619862   0.6048927  -0.37986556] dst[ 0.6489383  -0.26153266 -0.6047078   0.38053685] ... src == dst? True\n",
      "src[ 0.22387841 -0.6453715  -0.6143861   0.39484653] dst[-0.22417083  0.6455509   0.6143941  -0.39437464] ... src == dst? True\n",
      "src[ 0.16351146 -0.18047142  0.7190559  -0.65088606] dst[ 0.1632849  -0.17989016  0.7197177  -0.6503722 ] ... src == dst? True\n",
      "src[ 0.7028759  -0.61648464 -0.14215268 -0.3251227 ] dst[ 0.702176   -0.6171617  -0.14252836 -0.3251861 ] ... src == dst? True\n"
     ]
    }
   ],
   "source": [
    "enc = fpq_quat.encode_quat_to_uint(q, dtype=dtypes[1], encoder=fpq_fp.encode_fp_to_d3d_snorm)\n",
    "dec = fpq_quat.decode_uint_to_quat(enc, dtype=dtypes[0], decoder=fpq_fp.decode_d3d_snorm_to_fp)\n",
    "\n",
    "print('after encoding: {} / {} bytes ({})'.format(enc.nbytes, q.nbytes, enc.nbytes / q.nbytes))\n",
    "for src, dst in zip(q, dec):\n",
    "    print('src{} dst{} ... src == dst? {}'.format(src, dst, quat_are_same_rotation(src, dst, atol=1e-06)))"
   ]
  },
  {
   "cell_type": "markdown",
   "metadata": {},
   "source": [
    "Encode Quat(32bits) to uint64  \n",
    "Decode uint64 to Quat(32bits)"
   ]
  },
  {
   "cell_type": "code",
   "execution_count": 21,
   "metadata": {},
   "outputs": [],
   "source": [
    "dtypes = (np.float32, np.uint64)\n",
    "q = np.array([quat_random() for _ in range(10)], dtype=dtypes[0])"
   ]
  },
  {
   "cell_type": "code",
   "execution_count": 22,
   "metadata": {},
   "outputs": [
    {
     "name": "stdout",
     "output_type": "stream",
     "text": [
      "after encoding: 80 / 160 bytes (0.5)\n",
      "src[-0.12412817  0.25799847  0.2655171  -0.92061377] dst[ 0.12412781 -0.25799856 -0.26551756  0.9206136 ] ... src == dst? True\n",
      "src[-0.45681527 -0.4450885   0.29748198  0.7104368 ] dst[-0.4568147  -0.4450891   0.29748183  0.7104369 ] ... src == dst? True\n",
      "src[-0.11016668  0.5282864  -0.39775267 -0.74200374] dst[ 0.11016732 -0.52828646  0.39775234  0.7420038 ] ... src == dst? True\n",
      "src[-0.49601406 -0.40371075 -0.5008917  -0.5831768 ] dst[0.49601465 0.4037109  0.5008916  0.58317626] ... src == dst? True\n",
      "src[-0.42031944  0.884083   -0.00921119 -0.20406875] dst[-0.42031884  0.88408303 -0.0092116  -0.20406938] ... src == dst? True\n",
      "src[-0.19859958 -0.78394413 -0.5862808  -0.0475884 ] dst[0.19859898 0.78394437 0.58628064 0.04758894] ... src == dst? True\n",
      "src[-0.5229272   0.6082278   0.07386371 -0.5925793 ] dst[-0.52292675  0.6082283   0.0738644  -0.59257907] ... src == dst? True\n",
      "src[-0.16755931 -0.6451905  -0.69537    -0.26853994] dst[0.16755867 0.64519054 0.69537    0.26853997] ... src == dst? True\n",
      "src[ 0.39544612  0.7913052  -0.13205802 -0.44723496] dst[ 0.39544612  0.79130524 -0.13205814 -0.44723487] ... src == dst? True\n",
      "src[-0.04040531 -0.688546    0.7149112  -0.1147767 ] dst[-0.04040575 -0.68854594  0.7149112  -0.11477721] ... src == dst? True\n"
     ]
    }
   ],
   "source": [
    "enc = fpq_quat.encode_quat_to_uint(q, dtype=dtypes[1])\n",
    "dec = fpq_quat.decode_uint_to_quat(enc, dtype=dtypes[0])\n",
    "\n",
    "print('after encoding: {} / {} bytes ({})'.format(enc.nbytes, q.nbytes, enc.nbytes / q.nbytes))\n",
    "for src, dst in zip(q, dec):\n",
    "    print('src{} dst{} ... src == dst? {}'.format(src, dst, quat_are_same_rotation(src, dst, atol=1e-06)))"
   ]
  },
  {
   "cell_type": "code",
   "execution_count": 23,
   "metadata": {},
   "outputs": [
    {
     "name": "stdout",
     "output_type": "stream",
     "text": [
      "after encoding: 80 / 160 bytes (0.5)\n",
      "src[-0.12412817  0.25799847  0.2655171  -0.92061377] dst[ 0.12412781 -0.25799856 -0.26551756  0.9206136 ] ... src == dst? True\n",
      "src[-0.45681527 -0.4450885   0.29748198  0.7104368 ] dst[-0.4568147  -0.4450891   0.29748183  0.7104369 ] ... src == dst? True\n",
      "src[-0.11016668  0.5282864  -0.39775267 -0.74200374] dst[ 0.11016732 -0.52828646  0.39775234  0.7420038 ] ... src == dst? True\n",
      "src[-0.49601406 -0.40371075 -0.5008917  -0.5831768 ] dst[0.49601465 0.4037109  0.5008916  0.58317626] ... src == dst? True\n",
      "src[-0.42031944  0.884083   -0.00921119 -0.20406875] dst[-0.42031884  0.88408303 -0.0092116  -0.20406938] ... src == dst? True\n",
      "src[-0.19859958 -0.78394413 -0.5862808  -0.0475884 ] dst[0.19859898 0.78394437 0.58628064 0.04758894] ... src == dst? True\n",
      "src[-0.5229272   0.6082278   0.07386371 -0.5925793 ] dst[-0.52292675  0.6082283   0.0738644  -0.59257907] ... src == dst? True\n",
      "src[-0.16755931 -0.6451905  -0.69537    -0.26853994] dst[0.16755867 0.64519054 0.69537    0.26853997] ... src == dst? True\n",
      "src[ 0.39544612  0.7913052  -0.13205802 -0.44723496] dst[ 0.39544612  0.79130524 -0.13205814 -0.44723487] ... src == dst? True\n",
      "src[-0.04040531 -0.688546    0.7149112  -0.1147767 ] dst[-0.04040575 -0.68854594  0.7149112  -0.11477721] ... src == dst? True\n"
     ]
    }
   ],
   "source": [
    "enc = fpq_quat.encode_quat_to_uint(q, dtype=dtypes[1], encoder=fpq_fp.encode_fp_to_d3d_snorm)\n",
    "dec = fpq_quat.decode_uint_to_quat(enc, dtype=dtypes[0], decoder=fpq_fp.decode_d3d_snorm_to_fp)\n",
    "\n",
    "print('after encoding: {} / {} bytes ({})'.format(enc.nbytes, q.nbytes, enc.nbytes / q.nbytes))\n",
    "for src, dst in zip(q, dec):\n",
    "    print('src{} dst{} ... src == dst? {}'.format(src, dst, quat_are_same_rotation(src, dst, atol=1e-06)))"
   ]
  }
 ],
 "metadata": {
  "kernelspec": {
   "display_name": "Python 3",
   "language": "python",
   "name": "python3"
  },
  "language_info": {
   "codemirror_mode": {
    "name": "ipython",
    "version": 3
   },
   "file_extension": ".py",
   "mimetype": "text/x-python",
   "name": "python",
   "nbconvert_exporter": "python",
   "pygments_lexer": "ipython3",
   "version": "3.6.4"
  }
 },
 "nbformat": 4,
 "nbformat_minor": 2
}
