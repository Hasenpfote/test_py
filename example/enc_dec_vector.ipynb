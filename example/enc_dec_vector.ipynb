{
 "cells": [
  {
   "cell_type": "code",
   "execution_count": 10,
   "metadata": {},
   "outputs": [],
   "source": [
    "import math\n",
    "import random\n",
    "import numpy as np\n",
    "import fpq.vector as fpq_vec\n",
    "import fpq.fp as fpq_fp"
   ]
  },
  {
   "cell_type": "code",
   "execution_count": 11,
   "metadata": {},
   "outputs": [],
   "source": [
    "def vec_random(norm=None):\n",
    "    phi = random.uniform(0., 2. * math.pi)\n",
    "    theta = math.acos(random.uniform(-1., 1.))\n",
    "\n",
    "    if norm is None:\n",
    "        _norm = 1.\n",
    "    else:\n",
    "        _norm = random.uniform(0., norm)\n",
    "        \n",
    "    return np.array([math.sin(theta) * math.cos(phi) * _norm,\n",
    "                     math.sin(theta) * math.sin(phi) * _norm,\n",
    "                     math.cos(theta) * _norm])"
   ]
  },
  {
   "cell_type": "markdown",
   "metadata": {},
   "source": [
    "Encode Vec(64bits) to uint64(2,20,20,22)  \n",
    "Decode uint64(2,20,20,22) to Vec(64bits)"
   ]
  },
  {
   "cell_type": "code",
   "execution_count": 12,
   "metadata": {},
   "outputs": [
    {
     "name": "stdout",
     "output_type": "stream",
     "text": [
      "is valid? True (2, 20, 20, 22)\n"
     ]
    }
   ],
   "source": [
    "dtypes = (np.float64, np.uint64)\n",
    "nbits = 20\n",
    "\n",
    "print('is valid?',\n",
    "      fpq_vec.is_valid_format(dtypes[0], dtypes[1], nbits),\n",
    "      fpq_vec.calc_breakdown_of_uint(dtypes[1], nbits))\n",
    "\n",
    "v = np.array([vec_random(norm=100.) for _ in range(10)], dtype=dtypes[0])"
   ]
  },
  {
   "cell_type": "code",
   "execution_count": 13,
   "metadata": {},
   "outputs": [
    {
     "name": "stdout",
     "output_type": "stream",
     "text": [
      "after encoding: 80 / 240 bytes (0.3333333333333333)\n",
      "src[44.95406184  0.82707967 -9.40356655] dst[44.95317655  0.82705298 -9.40334705] ... src == dst? True\n",
      "src[-22.11239688  24.24491059 -74.76675894] dst[-22.11181099  24.24425382 -74.76463949] ... src == dst? True\n",
      "src[ 25.97293503 -27.17652844 -69.33611891] dst[ 25.97161031 -27.17518081 -69.3326638 ] ... src == dst? True\n",
      "src[-1.29607139 -4.25928649 -5.92617939] dst[-1.29605565 -4.25921986 -5.92609917] ... src == dst? True\n",
      "src[ 86.24057523 -12.15935039  -7.2708373 ] dst[ 86.23477006 -12.15848259  -7.27028687] ... src == dst? True\n",
      "src[-10.31294221   1.29227948  22.83441187] dst[-10.31265635   1.29222828  22.83378026] ... src == dst? True\n",
      "src[ 0.21705804  0.85034947 -0.71977905] dst[ 0.21705354  0.8503352  -0.71976731] ... src == dst? True\n",
      "src[ 16.87110776  75.61438078 -34.79301308] dst[ 16.8699552   75.60912814 -34.79064827] ... src == dst? True\n",
      "src[-41.03836476  -5.55084113 -49.66717588] dst[-41.03661203  -5.55066494 -49.66515449] ... src == dst? True\n",
      "src[  8.47995711  44.91212856 -56.57387641] dst[  8.47951988  44.91014735 -56.57145306] ... src == dst? True\n"
     ]
    }
   ],
   "source": [
    "enc = fpq_vec.encode_vec_to_uint(v, dtype=dtypes[1], nbits=nbits)\n",
    "dec = fpq_vec.decode_uint_to_vec(enc, dtype=dtypes[0], nbits=nbits)\n",
    "\n",
    "print('after encoding: {} / {} bytes ({})'.format(enc.nbytes, v.nbytes, enc.nbytes / v.nbytes))\n",
    "for src, dst in zip(v.reshape(-1, 3), dec.reshape(-1, 3)):\n",
    "    print('src{} dst{} ... src == dst? {}'.format(src, dst, np.allclose(src, dst, rtol=1e-03, atol=1e-04)))"
   ]
  },
  {
   "cell_type": "code",
   "execution_count": 14,
   "metadata": {},
   "outputs": [
    {
     "name": "stdout",
     "output_type": "stream",
     "text": [
      "after encoding: 80 / 240 bytes (0.3333333333333333)\n",
      "src[44.95406184  0.82707967 -9.40356655] dst[44.95317655  0.82705298 -9.40334705] ... src == dst? True\n",
      "src[-22.11239688  24.24491059 -74.76675894] dst[-22.11181099  24.24425382 -74.76463949] ... src == dst? True\n",
      "src[ 25.97293503 -27.17652844 -69.33611891] dst[ 25.97161031 -27.17518081 -69.3326638 ] ... src == dst? True\n",
      "src[-1.29607139 -4.25928649 -5.92617939] dst[-1.29605565 -4.25921986 -5.92609917] ... src == dst? True\n",
      "src[ 86.24057523 -12.15935039  -7.2708373 ] dst[ 86.23477006 -12.15848259  -7.27028687] ... src == dst? True\n",
      "src[-10.31294221   1.29227948  22.83441187] dst[-10.31265635   1.29222828  22.83378026] ... src == dst? True\n",
      "src[ 0.21705804  0.85034947 -0.71977905] dst[ 0.21705354  0.8503352  -0.71976731] ... src == dst? True\n",
      "src[ 16.87110776  75.61438078 -34.79301308] dst[ 16.8699552   75.60912814 -34.79064827] ... src == dst? True\n",
      "src[-41.03836476  -5.55084113 -49.66717588] dst[-41.03661203  -5.55066494 -49.66515449] ... src == dst? True\n",
      "src[  8.47995711  44.91212856 -56.57387641] dst[  8.47951988  44.91014735 -56.57145306] ... src == dst? True\n"
     ]
    }
   ],
   "source": [
    "enc = fpq_vec.encode_vec_to_uint(v, dtype=dtypes[1], nbits=nbits, encoder=fpq_fp.encode_fp_to_d3d_snorm)\n",
    "dec = fpq_vec.decode_uint_to_vec(enc, dtype=dtypes[0], nbits=nbits, decoder=fpq_fp.decode_d3d_snorm_to_fp)\n",
    "\n",
    "print('after encoding: {} / {} bytes ({})'.format(enc.nbytes, v.nbytes, enc.nbytes / v.nbytes))\n",
    "for src, dst in zip(v.reshape(-1, 3), dec.reshape(-1, 3)):\n",
    "    print('src{} dst{} ... src == dst? {}'.format(src, dst, np.allclose(src, dst, rtol=1e-03, atol=1e-04)))"
   ]
  },
  {
   "cell_type": "markdown",
   "metadata": {},
   "source": [
    "Encode Vec(32bits) to uint32(2,10,10,10)  \n",
    "Decode uint32(2,10,10,10) to Vec(32bits)"
   ]
  },
  {
   "cell_type": "code",
   "execution_count": 15,
   "metadata": {},
   "outputs": [
    {
     "name": "stdout",
     "output_type": "stream",
     "text": [
      "is valid? True (2, 10, 10, 10)\n"
     ]
    }
   ],
   "source": [
    "dtypes = (np.float32, np.uint32)\n",
    "nbits = 10\n",
    "\n",
    "print('is valid?',\n",
    "      fpq_vec.is_valid_format(dtypes[0], dtypes[1], nbits),\n",
    "      fpq_vec.calc_breakdown_of_uint(dtypes[1], nbits))\n",
    "\n",
    "v = np.array([vec_random(norm=100.) for _ in range(10)], dtype=dtypes[0])"
   ]
  },
  {
   "cell_type": "code",
   "execution_count": 16,
   "metadata": {},
   "outputs": [
    {
     "name": "stdout",
     "output_type": "stream",
     "text": [
      "after encoding: 40 / 120 bytes (0.3333333333333333)\n",
      "src[ 2.7172086 -4.0975485 -9.116394 ] dst[ 2.6223092 -3.9530334 -8.80324  ] ... src == dst? True\n",
      "src[-57.039375 -18.94726  -43.37267 ] dst[-55.393494 -18.457926 -42.129158] ... src == dst? True\n",
      "src[-41.0657    27.296251 -33.828697] dst[-39.857315  26.446184 -32.80235 ] ... src == dst? True\n",
      "src[-12.168765  18.049368  74.38928 ] dst[-11.898239  17.698631  72.94649 ] ... src == dst? True\n",
      "src[-12.622603  -29.14469    -1.7884578] dst[-12.315068  -28.394436   -1.7592955] ... src == dst? True\n",
      "src[46.371418 15.269612 43.480583] dst[45.39318 14.90411 42.58317] ... src == dst? True\n",
      "src[ 7.7050695 -4.5019464  9.899196 ] dst[ 7.5048923 -4.401174   9.659516 ] ... src == dst? True\n",
      "src[-3.5105357   0.28500584 -8.883698  ] dst[-3.4951077   0.27886498 -8.829296  ] ... src == dst? True\n",
      "src[-17.187216  -33.812576   -1.3199842] dst[-16.273973  -32.086597   -1.2681017] ... src == dst? True\n",
      "src[-11.423087    10.04659     -0.16665973] dst[-11.274309     9.892367    -0.17612524] ... src == dst? True\n"
     ]
    }
   ],
   "source": [
    "enc = fpq_vec.encode_vec_to_uint(v, dtype=dtypes[1], nbits=nbits)\n",
    "dec = fpq_vec.decode_uint_to_vec(enc, dtype=dtypes[0], nbits=nbits)\n",
    "\n",
    "print('after encoding: {} / {} bytes ({})'.format(enc.nbytes, v.nbytes, enc.nbytes / v.nbytes))\n",
    "for src, dst in zip(v.reshape(-1, 3), dec.reshape(-1, 3)):\n",
    "    print('src{} dst{} ... src == dst? {}'.format(src, dst, np.allclose(src, dst, rtol=1e-01, atol=1e-02)))"
   ]
  },
  {
   "cell_type": "code",
   "execution_count": 17,
   "metadata": {},
   "outputs": [
    {
     "name": "stdout",
     "output_type": "stream",
     "text": [
      "after encoding: 40 / 120 bytes (0.3333333333333333)\n",
      "src[ 2.7172086 -4.0975485 -9.116394 ] dst[ 2.6223092 -3.9530334 -8.80324  ] ... src == dst? True\n",
      "src[-57.039375 -18.94726  -43.37267 ] dst[-55.393494 -18.457926 -42.129158] ... src == dst? True\n",
      "src[-41.0657    27.296251 -33.828697] dst[-39.857315  26.446184 -32.80235 ] ... src == dst? True\n",
      "src[-12.168765  18.049368  74.38928 ] dst[-11.898239  17.698631  72.94649 ] ... src == dst? True\n",
      "src[-12.622603  -29.14469    -1.7884578] dst[-12.315068  -28.394436   -1.7592955] ... src == dst? True\n",
      "src[46.371418 15.269612 43.480583] dst[45.39318 14.90411 42.58317] ... src == dst? True\n",
      "src[ 7.7050695 -4.5019464  9.899196 ] dst[ 7.5048923 -4.401174   9.659516 ] ... src == dst? True\n",
      "src[-3.5105357   0.28500584 -8.883698  ] dst[-3.4951077   0.27886498 -8.829296  ] ... src == dst? True\n",
      "src[-17.187216  -33.812576   -1.3199842] dst[-16.273973  -32.086597   -1.2681017] ... src == dst? True\n",
      "src[-11.423087    10.04659     -0.16665973] dst[-11.274309     9.892367    -0.17612524] ... src == dst? True\n"
     ]
    }
   ],
   "source": [
    "enc = fpq_vec.encode_vec_to_uint(v, dtype=dtypes[1], nbits=nbits, encoder=fpq_fp.encode_fp_to_d3d_snorm)\n",
    "dec = fpq_vec.decode_uint_to_vec(enc, dtype=dtypes[0], nbits=nbits, decoder=fpq_fp.decode_d3d_snorm_to_fp)\n",
    "\n",
    "print('after encoding: {} / {} bytes ({})'.format(enc.nbytes, v.nbytes, enc.nbytes / v.nbytes))\n",
    "for src, dst in zip(v.reshape(-1, 3), dec.reshape(-1, 3)):\n",
    "    print('src{} dst{} ... src == dst? {}'.format(src, dst, np.allclose(src, dst, rtol=1e-01, atol=1e-02)))"
   ]
  },
  {
   "cell_type": "markdown",
   "metadata": {},
   "source": [
    "Encode Vec(32bits) to uint64(2,20,20,22)  \n",
    "Decode uint64(2,20,20,22) to Vec(32bits)"
   ]
  },
  {
   "cell_type": "code",
   "execution_count": 18,
   "metadata": {},
   "outputs": [
    {
     "name": "stdout",
     "output_type": "stream",
     "text": [
      "is valid? True (2, 20, 20, 22)\n"
     ]
    }
   ],
   "source": [
    "dtypes = (np.float32, np.uint64)\n",
    "nbits = 20\n",
    "\n",
    "print('is valid?',\n",
    "      fpq_vec.is_valid_format(dtypes[0], dtypes[1], nbits),\n",
    "      fpq_vec.calc_breakdown_of_uint(dtypes[1], nbits))\n",
    "\n",
    "v = np.array([vec_random(norm=100.) for _ in range(10)], dtype=dtypes[0])"
   ]
  },
  {
   "cell_type": "code",
   "execution_count": 19,
   "metadata": {},
   "outputs": [
    {
     "name": "stdout",
     "output_type": "stream",
     "text": [
      "after encoding: 80 / 120 bytes (0.6666666666666666)\n",
      "src[ 19.924303  22.796703 -15.028492] dst[ 19.924067  22.796387 -15.028278] ... src == dst? True\n",
      "src[ 11.444004  31.734875 -62.664555] dst[ 11.44327   31.733065 -62.660896] ... src == dst? True\n",
      "src[-42.745384   17.509562   -3.4759243] dst[-42.742752  17.508505  -3.475744] ... src == dst? True\n",
      "src[ 22.34351   39.5014   -43.511032] dst[ 22.343475  39.501247 -43.51086 ] ... src == dst? True\n",
      "src[-0.0890753  -0.37651327  7.708801  ] dst[-0.08907946 -0.37650093  7.7085586 ] ... src == dst? True\n",
      "src[11.875835  -1.3774599 -5.485173 ] dst[11.875485  -1.3774073 -5.485018 ] ... src == dst? True\n",
      "src[ 37.457615 -64.05843    8.774891] dst[ 37.45536  -64.05465    8.774363] ... src == dst? True\n",
      "src[-5.861506 -6.227135 12.838411] dst[-5.861442 -6.227074 12.838293] ... src == dst? True\n",
      "src[-14.568245   -7.2390547   5.515419 ] dst[-14.567002   -7.238446    5.5149617] ... src == dst? True\n",
      "src[ 0.37765804 27.971958   51.9211    ] dst[ 0.37762582 27.971422   51.92005   ] ... src == dst? True\n"
     ]
    }
   ],
   "source": [
    "enc = fpq_vec.encode_vec_to_uint(v, dtype=dtypes[1], nbits=nbits)\n",
    "dec = fpq_vec.decode_uint_to_vec(enc, dtype=dtypes[0], nbits=nbits)\n",
    "\n",
    "print('after encoding: {} / {} bytes ({})'.format(enc.nbytes, v.nbytes, enc.nbytes / v.nbytes))\n",
    "for src, dst in zip(v.reshape(-1, 3), dec.reshape(-1, 3)):\n",
    "    print('src{} dst{} ... src == dst? {}'.format(src, dst, np.allclose(src, dst, rtol=1e-03, atol=1e-04)))"
   ]
  },
  {
   "cell_type": "code",
   "execution_count": 20,
   "metadata": {},
   "outputs": [
    {
     "name": "stdout",
     "output_type": "stream",
     "text": [
      "after encoding: 80 / 120 bytes (0.6666666666666666)\n",
      "src[ 19.924303  22.796703 -15.028492] dst[ 19.924067  22.796387 -15.028278] ... src == dst? True\n",
      "src[ 11.444004  31.734875 -62.664555] dst[ 11.44327   31.733065 -62.660896] ... src == dst? True\n",
      "src[-42.745384   17.509562   -3.4759243] dst[-42.742752  17.508505  -3.475744] ... src == dst? True\n",
      "src[ 22.34351   39.5014   -43.511032] dst[ 22.343475  39.501247 -43.51086 ] ... src == dst? True\n",
      "src[-0.0890753  -0.37651327  7.708801  ] dst[-0.08907946 -0.37650093  7.7085586 ] ... src == dst? True\n",
      "src[11.875835  -1.3774599 -5.485173 ] dst[11.875485  -1.3774073 -5.485018 ] ... src == dst? True\n",
      "src[ 37.457615 -64.05843    8.774891] dst[ 37.45536  -64.05465    8.774363] ... src == dst? True\n",
      "src[-5.861506 -6.227135 12.838411] dst[-5.861442 -6.227074 12.838293] ... src == dst? True\n",
      "src[-14.568245   -7.2390547   5.515419 ] dst[-14.567002   -7.238446    5.5149617] ... src == dst? True\n",
      "src[ 0.37765804 27.971958   51.9211    ] dst[ 0.37762582 27.971422   51.92005   ] ... src == dst? True\n"
     ]
    }
   ],
   "source": [
    "enc = fpq_vec.encode_vec_to_uint(v, dtype=dtypes[1], nbits=nbits, encoder=fpq_fp.encode_fp_to_d3d_snorm)\n",
    "dec = fpq_vec.decode_uint_to_vec(enc, dtype=dtypes[0], nbits=nbits, decoder=fpq_fp.decode_d3d_snorm_to_fp)\n",
    "\n",
    "print('after encoding: {} / {} bytes ({})'.format(enc.nbytes, v.nbytes, enc.nbytes / v.nbytes))\n",
    "for src, dst in zip(v.reshape(-1, 3), dec.reshape(-1, 3)):\n",
    "    print('src{} dst{} ... src == dst? {}'.format(src, dst, np.allclose(src, dst, rtol=1e-03, atol=1e-04)))"
   ]
  }
 ],
 "metadata": {
  "kernelspec": {
   "display_name": "Python 3",
   "language": "python",
   "name": "python3"
  },
  "language_info": {
   "codemirror_mode": {
    "name": "ipython",
    "version": 3
   },
   "file_extension": ".py",
   "mimetype": "text/x-python",
   "name": "python",
   "nbconvert_exporter": "python",
   "pygments_lexer": "ipython3",
   "version": "3.6.4"
  }
 },
 "nbformat": 4,
 "nbformat_minor": 2
}
